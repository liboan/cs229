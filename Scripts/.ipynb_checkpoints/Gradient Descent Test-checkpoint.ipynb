{
 "cells": [
  {
   "cell_type": "code",
   "execution_count": 459,
   "metadata": {
    "collapsed": false
   },
   "outputs": [
    {
     "name": "stdout",
     "output_type": "stream",
     "text": [
      "Once deleted, variables cannot be recovered. Proceed (y/[n])? y\n"
     ]
    }
   ],
   "source": [
    "%reset\n",
    "%matplotlib inline\n",
    "\n",
    "import matplotlib.pyplot as plt\n",
    "import numpy as np\n",
    "\n",
    "# create sets of data, adding uniform random noise to line y = x\n",
    "# 50 training sets to begin with\n",
    "m = 50\n",
    "\n",
    "feature_vals = np.stack((np.ones(m), np.random.uniform(0, m, m)))\n",
    "\n",
    "\n",
    "target_vals = 2 * feature_vals[1] + np.random.uniform(0,20, m)\n",
    "# our target values are dependent on Feature #1\n",
    "\n",
    "\n",
    "# plt.scatter(feature_vals,target_vals)\n",
    "# plt.title(\"Plot of uniform random noise added to y = x \")\n",
    "# plt.xlabel('feature_vals')\n",
    "# plt.ylabel('target_vals')\n",
    "# plt.show()"
   ]
  },
  {
   "cell_type": "code",
   "execution_count": 460,
   "metadata": {
    "collapsed": false
   },
   "outputs": [],
   "source": [
    "# Now let's implement the algos!\n",
    "\n",
    "# Our hypothesis, h, is a vector with an element for each feature \n",
    "# (each row in the feature_vals matrix)\n",
    "\n",
    "h = np.zeros(np.shape(feature_vals)[0])\n",
    "\n",
    "def batch_update(h, x, y, learning_rate=0.00001):\n",
    "    \"\"\"Performs the batch gradient descent update step.\n",
    "    theta: the current value of the hypothesis element\n",
    "    h: the current hypothesis\n",
    "    x: feature values (matrix)\n",
    "    y: target values (array/vector)\n",
    "    \"\"\"\n",
    "    assert np.shape(h)[0] == np.shape(x)[0] \n",
    "    # each feature must get a parameter (including the const param, alls 1s)!\n",
    "    assert np.shape(feature_vals)[1] == np.shape(y)[0] \n",
    "    # one column of feature values per target value!\n",
    "    \n",
    "    new_h = np.zeros(np.shape(h)[0])\n",
    "    \n",
    "    for i in range(0, len(h)):\n",
    "        theta_i = h[i]\n",
    "        # for each theta_i and x_i in n features\n",
    "        sum_error_product = 0\n",
    "        for j in range(0, len(y)):\n",
    "            # for each x_i^j and y^j in m training exapmles\n",
    "            x_j = x[:,j]\n",
    "            x_i_j = x[i,j]\n",
    "            y_j = y[j]\n",
    "            \n",
    "            sum_error_product += x_i_j * (np.dot(h, x_j) - y_j)\n",
    "                \n",
    "        new_h[i] = theta_i - learning_rate * sum_error_product \n",
    "        # update the new feature value!\n",
    "        \n",
    "    return new_h\n",
    "            \n",
    "def plot_2d(h, x, y):\n",
    "    \"\"\"Plots the 2D graph given some training data and a hypothesis\"\"\"\n",
    "    feature_1 = x[1] # we don't care about the constant\n",
    "    target = y\n",
    "    prediction = h[0] + h[1] * feature_1 # our hypothesis\n",
    "    print(\"y = %.4f + %.4fx\" % (h[0], h[1]))\n",
    "    \n",
    "    plt.scatter(feature_1, target)\n",
    "    plt.plot(feature_1, prediction)\n",
    "    plt.show()\n",
    "    "
   ]
  },
  {
   "cell_type": "code",
   "execution_count": 472,
   "metadata": {
    "collapsed": false
   },
   "outputs": [
    {
     "name": "stdout",
     "output_type": "stream",
     "text": [
      "y = 0.0909 + 2.3379x\n"
     ]
    },
    {
     "data": {
      "image/png": "[encoded data removed]",
      "text/plain": [
       "<matplotlib.figure.Figure at 0x7ff666bd29b0>"
      ]
     },
     "metadata": {},
     "output_type": "display_data"
    }
   ],
   "source": [
    "\n",
    "\n",
    "h = batch_update(h, feature_vals, target_vals)\n",
    "\n",
    "\n",
    "plot_2d(h, feature_vals, target_vals)\n",
    "\n"
   ]
  },
  {
   "cell_type": "code",
   "execution_count": null,
   "metadata": {
    "collapsed": true
   },
   "outputs": [],
   "source": [
    "\n",
    "\n",
    "\n",
    "\n",
    "\n",
    "\n",
    "\n",
    "\n",
    "\n",
    "\n",
    "\n",
    "\n",
    "\n",
    "\n",
    "\n",
    "\n",
    "\n",
    "\n",
    "\n",
    "\n",
    "\n",
    "\n",
    "\n"
   ]
  }
 ],
 "metadata": {
  "kernelspec": {
   "display_name": "Python 3",
   "language": "python",
   "name": "python3"
  },
  "language_info": {
   "codemirror_mode": {
    "name": "ipython",
    "version": 3
   },
   "file_extension": ".py",
   "mimetype": "text/x-python",
   "name": "python",
   "nbconvert_exporter": "python",
   "pygments_lexer": "ipython3",
   "version": "3.5.1+"
  }
 },
 "nbformat": 4,
 "nbformat_minor": 0
}
